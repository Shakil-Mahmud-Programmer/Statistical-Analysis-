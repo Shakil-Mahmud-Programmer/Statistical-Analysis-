{
 "cells": [
  {
   "cell_type": "markdown",
   "metadata": {},
   "source": [
    "Import Package"
   ]
  },
  {
   "cell_type": "code",
   "execution_count": 1,
   "metadata": {},
   "outputs": [],
   "source": [
    "import math\n",
    "import numpy as np\n",
    "import tabulate\n",
    "import matplotlib.pyplot as plt"
   ]
  },
  {
   "cell_type": "markdown",
   "metadata": {},
   "source": [
    "Data Entry"
   ]
  },
  {
   "cell_type": "code",
   "execution_count": 2,
   "metadata": {},
   "outputs": [
    {
     "data": {
      "text/plain": [
       "[27.0,\n",
       " 27.0,\n",
       " 27.0,\n",
       " 28.0,\n",
       " 27.0,\n",
       " 25.0,\n",
       " 25.0,\n",
       " 28.0,\n",
       " 26.0,\n",
       " 28.0,\n",
       " 26.0,\n",
       " 28.0,\n",
       " 31.0,\n",
       " 30.0,\n",
       " 26.0,\n",
       " 26.0]"
      ]
     },
     "execution_count": 2,
     "metadata": {},
     "output_type": "execute_result"
    }
   ],
   "source": [
    "fr=int(input('The number of Frequency: '))\n",
    "fr_list=list()\n",
    "for i in range(fr):\n",
    "    fr_list.append(float(input()))\n",
    "\n",
    "fr_high=max(fr_list)\n",
    "fr_low=min(fr_list)\n",
    "fr_list"
   ]
  },
  {
   "cell_type": "markdown",
   "metadata": {},
   "source": [
    "Number of classes and class interval"
   ]
  },
  {
   "cell_type": "code",
   "execution_count": 3,
   "metadata": {},
   "outputs": [
    {
     "data": {
      "text/plain": [
       "(6, 1)"
      ]
     },
     "execution_count": 3,
     "metadata": {},
     "output_type": "execute_result"
    }
   ],
   "source": [
    "k = math.ceil((1 + 3.322 * math.log10(fr)))\n",
    "i = math.ceil((fr_high-fr_low)/k)\n",
    "k,i"
   ]
  },
  {
   "cell_type": "markdown",
   "metadata": {},
   "source": [
    "Arranginging the classes"
   ]
  },
  {
   "cell_type": "code",
   "execution_count": 4,
   "metadata": {},
   "outputs": [
    {
     "data": {
      "text/plain": [
       "[25.0, 26.0, 27.0, 28.0, 29.0, 30.0, 31.0]"
      ]
     },
     "execution_count": 4,
     "metadata": {},
     "output_type": "execute_result"
    }
   ],
   "source": [
    "main_list = list()\n",
    "sub_list = list()\n",
    "con=np.arange(fr_low,fr_high,i)\n",
    "con=list(con)\n",
    "con.append(fr_high)\n",
    "con"
   ]
  },
  {
   "cell_type": "markdown",
   "metadata": {},
   "source": [
    "Arranging the Frequency"
   ]
  },
  {
   "cell_type": "code",
   "execution_count": 5,
   "metadata": {},
   "outputs": [
    {
     "data": {
      "text/plain": [
       "[[25.0, 26.0, 2],\n",
       " [26.0, 27.0, 4],\n",
       " [27.0, 28.0, 4],\n",
       " [28.0, 29.0, 4],\n",
       " [29.0, 30.0, 0],\n",
       " [30.0, 31.0, 2]]"
      ]
     },
     "execution_count": 5,
     "metadata": {},
     "output_type": "execute_result"
    }
   ],
   "source": [
    "j=0\n",
    "while j<k:\n",
    "    sub_list.append(con[j])\n",
    "    j=j+1\n",
    "    sub_list.append(con[j])\n",
    "    get=0\n",
    "    for key in fr_list:\n",
    "        if key >= con[j-1] and key < con[j] :\n",
    "            get+=1\n",
    "        elif j==k and key==con[k]:\n",
    "            get+=1\n",
    "    sub_list.append(get)\n",
    "\n",
    "    temp=sub_list.copy()\n",
    "    main_list.append(temp)\n",
    "    sub_list.clear()\n",
    "main_list"
   ]
  },
  {
   "cell_type": "markdown",
   "metadata": {},
   "source": [
    "Distribution Table"
   ]
  },
  {
   "cell_type": "code",
   "execution_count": 7,
   "metadata": {},
   "outputs": [
    {
     "name": "stdout",
     "output_type": "stream",
     "text": [
      "╒═════════════╤═════════════╤════════════════════════╕\n",
      "│ Class       │   Frequency │   Cumulative Frequency │\n",
      "╞═════════════╪═════════════╪════════════════════════╡\n",
      "│ 25.0 - 26.0 │           2 │                      2 │\n",
      "├─────────────┼─────────────┼────────────────────────┤\n",
      "│ 26.0 - 27.0 │           4 │                      6 │\n",
      "├─────────────┼─────────────┼────────────────────────┤\n",
      "│ 27.0 - 28.0 │           4 │                     10 │\n",
      "├─────────────┼─────────────┼────────────────────────┤\n",
      "│ 28.0 - 29.0 │           4 │                     14 │\n",
      "├─────────────┼─────────────┼────────────────────────┤\n",
      "│ 29.0 - 30.0 │           0 │                     14 │\n",
      "├─────────────┼─────────────┼────────────────────────┤\n",
      "│ 30.0 - 31.0 │           2 │                     16 │\n",
      "╘═════════════╧═════════════╧════════════════════════╛\n"
     ]
    }
   ],
   "source": [
    "import tabulate\n",
    "head = list()\n",
    "tbl_main_list = list()\n",
    "tbl_sub_list = list()\n",
    "fr_get=0\n",
    "j=0\n",
    "while j<k:\n",
    "    tbl_sub_list.append(str(main_list[j][0])+' - '+str(main_list[j][1]))\n",
    "    tbl_sub_list.append(main_list[j][2])\n",
    "    if j==0:\n",
    "        fr_get+=main_list[j][2]\n",
    "        tbl_sub_list.append(fr_get)\n",
    "        \n",
    "    else:\n",
    "        fr_get+=main_list[j][2]\n",
    "        tbl_sub_list.append(fr_get)\n",
    "\n",
    "    temp1 = tbl_sub_list.copy()\n",
    "    tbl_main_list.append(temp1)\n",
    "    tbl_sub_list.clear()\n",
    "    j+=1\n",
    "\n",
    "head.append('Class')\n",
    "head.append('Frequency')\n",
    "head.append('Cumulative Frequency')\n",
    "print(tabulate.tabulate(tbl_main_list,headers=head,tablefmt='fancy_grid'))"
   ]
  },
  {
   "cell_type": "markdown",
   "metadata": {},
   "source": [
    "Histogram Plots for Frequency and Cumulative Frequency."
   ]
  },
  {
   "cell_type": "code",
   "execution_count": 8,
   "metadata": {},
   "outputs": [
    {
     "data": {
      "image/png": "[encoded data removed]",
      "text/plain": [
       "<Figure size 576x396 with 2 Axes>"
      ]
     },
     "metadata": {},
     "output_type": "display_data"
    }
   ],
   "source": [
    "import matplotlib.pyplot as plt\n",
    "plt.style.use('seaborn')\n",
    "fig,ax= plt.subplots(1,2)\n",
    "fig.suptitle('Frequency Plot',color='blueviolet',size=14)\n",
    "fig.tight_layout(pad=3)\n",
    "\n",
    "\n",
    "ax[0].set_title('Frequency Plot',color='deepskyblue',size=12)\n",
    "ax[0].hist(fr_list,con,color='deepskyblue',edgecolor='b',label='Frequency')\n",
    "ax[0].set_xlabel('Class',color='deepskyblue',size=10)\n",
    "ax[0].set_ylabel('Frequency',color='deepskyblue',size=10)\n",
    "ax[0].legend()\n",
    "\n",
    "ax[1].set_title('Cumulative Frequency Plot',color='lime',size=12)\n",
    "ax[1].hist(fr_list,con,cumulative='True',color='lime',edgecolor='b',label='Cumulative Frequency')\n",
    "ax[1].set_xlabel('Class',color='lime',size=10)\n",
    "ax[1].set_ylabel('Cumulative Frequency',color='lime',size=10)\n",
    "ax[1].legend()\n",
    "\n",
    "plt.show()"
   ]
  },
  {
   "cell_type": "markdown",
   "metadata": {},
   "source": [
    "The Project is completed. \n",
    "Thank You !"
   ]
  }
 ],
 "metadata": {
  "interpreter": {
   "hash": "3a981eb91f0dfb0167eae25802657a138cc38d9ddd7155c61c1194f70faebf56"
  },
  "kernelspec": {
   "display_name": "Python 3.9.5 64-bit",
   "language": "python",
   "name": "python3"
  },
  "language_info": {
   "codemirror_mode": {
    "name": "ipython",
    "version": 3
   },
   "file_extension": ".py",
   "mimetype": "text/x-python",
   "name": "python",
   "nbconvert_exporter": "python",
   "pygments_lexer": "ipython3",
   "version": "3.9.5"
  },
  "orig_nbformat": 4
 },
 "nbformat": 4,
 "nbformat_minor": 2
}
